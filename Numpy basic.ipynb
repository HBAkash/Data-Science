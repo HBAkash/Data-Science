{
  "nbformat": 4,
  "nbformat_minor": 0,
  "metadata": {
    "colab": {
      "provenance": []
    },
    "kernelspec": {
      "name": "python3",
      "display_name": "Python 3"
    },
    "language_info": {
      "name": "python"
    }
  },
  "cells": [
    {
      "cell_type": "code",
      "execution_count": null,
      "metadata": {
        "id": "uvfAG9mx92-h"
      },
      "outputs": [],
      "source": [
        "import numpy as np\n"
      ]
    },
    {
      "cell_type": "markdown",
      "source": [
        "## New Section\n",
        "**Array Initialization**"
      ],
      "metadata": {
        "id": "nKfQ2L4MB9P-"
      }
    },
    {
      "cell_type": "markdown",
      "source": [
        "Creating an One dimensional array"
      ],
      "metadata": {
        "id": "SNW1Z5LG-AaT"
      }
    },
    {
      "cell_type": "code",
      "source": [
        "a = np.array([1,2,3])\n",
        "print(a)"
      ],
      "metadata": {
        "colab": {
          "base_uri": "https://localhost:8080/"
        },
        "id": "USYQ2BgO-DSj",
        "outputId": "46d5f393-8102-4576-90b4-abdfc7eb3692"
      },
      "execution_count": null,
      "outputs": [
        {
          "output_type": "stream",
          "name": "stdout",
          "text": [
            "[1 2 3]\n"
          ]
        }
      ]
    },
    {
      "cell_type": "markdown",
      "source": [
        "Now Creating 2D and 3D arrays. 2D array creation is kind of easy. But In terms of 3D arrays, we need to consider the format below\n",
        "np.array([ [ [1,2,3], [2,3,4] ], [ [ 3,4,5], [3,4,5] ] ] )"
      ],
      "metadata": {
        "id": "dit4aKu--UCb"
      }
    },
    {
      "cell_type": "code",
      "source": [
        "b = np.array([[1,2,4], [3,4,5]])\n",
        "c = np.array([[[1,2,4],[3,5,4]],[[4,5,3],[3,4,5]]])\n",
        "print(b)\n",
        "print(c)"
      ],
      "metadata": {
        "colab": {
          "base_uri": "https://localhost:8080/"
        },
        "id": "vEYvxARC-IW2",
        "outputId": "299e55f8-705a-49b8-f53f-d72856d53f02"
      },
      "execution_count": null,
      "outputs": [
        {
          "output_type": "stream",
          "name": "stdout",
          "text": [
            "[[1 2 4]\n",
            " [3 4 5]]\n",
            "[[[1 2 4]\n",
            "  [3 5 4]]\n",
            "\n",
            " [[4 5 3]\n",
            "  [3 4 5]]]\n"
          ]
        }
      ]
    },
    {
      "cell_type": "markdown",
      "source": [
        "Changing the Datatype, We can change the datatype by changing the dtype function value."
      ],
      "metadata": {
        "id": "trhbfLB6_Gry"
      }
    },
    {
      "cell_type": "code",
      "source": [
        "d = np.array([3,4,5],dtype= float)\n",
        "print(d)"
      ],
      "metadata": {
        "colab": {
          "base_uri": "https://localhost:8080/"
        },
        "id": "s-P2-HUo_K-5",
        "outputId": "84bc39c3-6c50-43f0-96d6-031e770a0a84"
      },
      "execution_count": null,
      "outputs": [
        {
          "output_type": "stream",
          "name": "stdout",
          "text": [
            "[3. 4. 5.]\n"
          ]
        }
      ]
    },
    {
      "cell_type": "markdown",
      "source": [
        "Creating array by using arange function. The function is like this\n",
        "np.arnage(initial value, final value, difference)"
      ],
      "metadata": {
        "id": "nmJCLIAD-TNS"
      }
    },
    {
      "cell_type": "code",
      "source": [
        "e = np.arange(1,11,2)\n",
        "print(e)"
      ],
      "metadata": {
        "colab": {
          "base_uri": "https://localhost:8080/"
        },
        "id": "bk7lBbwJ_cfz",
        "outputId": "efadc8b9-4819-4faf-f5fa-c477e837f470"
      },
      "execution_count": null,
      "outputs": [
        {
          "output_type": "stream",
          "name": "stdout",
          "text": [
            "[1 3 5 7 9]\n"
          ]
        }
      ]
    },
    {
      "cell_type": "markdown",
      "source": [
        "Reshaping function. It basically gives the user to change the shape of the matrix."
      ],
      "metadata": {
        "id": "V3PCwDvG_n5q"
      }
    },
    {
      "cell_type": "code",
      "source": [
        "f = np.arange(16).reshape(4,4)\n",
        "print(f)"
      ],
      "metadata": {
        "colab": {
          "base_uri": "https://localhost:8080/"
        },
        "id": "3PdUE6Xq_pps",
        "outputId": "20f7bb86-9ae3-4102-89a8-27be9e81eba0"
      },
      "execution_count": null,
      "outputs": [
        {
          "output_type": "stream",
          "name": "stdout",
          "text": [
            "[[ 0  1  2  3]\n",
            " [ 4  5  6  7]\n",
            " [ 8  9 10 11]\n",
            " [12 13 14 15]]\n"
          ]
        }
      ]
    },
    {
      "cell_type": "markdown",
      "source": [
        "ones,zeros,random. These are some of the functions that initializes array. In terms of ones, it initializes all values as 1,\n",
        "In terms of zeros, It will initialize all the matrix value as 0,\n",
        "And in terms of random number it will initialize all the matrix value from 0 to 1"
      ],
      "metadata": {
        "id": "JQnK4glF_3k9"
      }
    },
    {
      "cell_type": "code",
      "source": [
        "g = np.zeros(3)\n",
        "h = np.ones(5)\n",
        "i = np.random.random(5)\n",
        "print(g)\n",
        "print(h)\n",
        "print(i)"
      ],
      "metadata": {
        "colab": {
          "base_uri": "https://localhost:8080/"
        },
        "id": "ZIj6p3oz_7TA",
        "outputId": "402bf1f8-76c8-488d-c9a1-417ed913351c"
      },
      "execution_count": null,
      "outputs": [
        {
          "output_type": "stream",
          "name": "stdout",
          "text": [
            "[0. 0. 0.]\n",
            "[1. 1. 1. 1. 1.]\n",
            "[64.65919818 57.31119479 60.97531815 84.23704085 26.14209858]\n"
          ]
        }
      ]
    },
    {
      "cell_type": "markdown",
      "source": [
        "By using linear space. It creates equal spaces betweent the values of the given parameter."
      ],
      "metadata": {
        "id": "q8UN7wWy_6XI"
      }
    },
    {
      "cell_type": "code",
      "source": [
        "j = np.linspace(1,20,4)\n",
        "print(j)"
      ],
      "metadata": {
        "colab": {
          "base_uri": "https://localhost:8080/"
        },
        "id": "HhQbgzyHAQ1n",
        "outputId": "421c67fe-7033-463f-90e4-70ca01b73273"
      },
      "execution_count": null,
      "outputs": [
        {
          "output_type": "stream",
          "name": "stdout",
          "text": [
            "[ 1.          7.33333333 13.66666667 20.        ]\n"
          ]
        }
      ]
    },
    {
      "cell_type": "markdown",
      "source": [
        "Creating Identity matrix. It creates the Identity matrix, means all the diagonal value of the entity will be 1, and all other entity will be 0."
      ],
      "metadata": {
        "id": "psCavd3nAZFa"
      }
    },
    {
      "cell_type": "code",
      "source": [
        "k = np.identity(5)\n",
        "print(k)"
      ],
      "metadata": {
        "colab": {
          "base_uri": "https://localhost:8080/"
        },
        "id": "aykZvxmGAbZw",
        "outputId": "91a87aae-f8db-4ade-a135-1c4c1167bb2e"
      },
      "execution_count": null,
      "outputs": [
        {
          "output_type": "stream",
          "name": "stdout",
          "text": [
            "[[1. 0. 0. 0. 0.]\n",
            " [0. 1. 0. 0. 0.]\n",
            " [0. 0. 1. 0. 0.]\n",
            " [0. 0. 0. 1. 0.]\n",
            " [0. 0. 0. 0. 1.]]\n"
          ]
        }
      ]
    },
    {
      "cell_type": "markdown",
      "source": [
        "# New Section\n",
        "**Array Attributes**"
      ],
      "metadata": {
        "id": "k7QnPyZUCI0H"
      }
    },
    {
      "cell_type": "markdown",
      "source": [
        "Just creating 1D, 2D and 3D arrays."
      ],
      "metadata": {
        "id": "jsxf8LlgEIjv"
      }
    },
    {
      "cell_type": "code",
      "source": [
        "a1 = np.arange(10,dtype =np.int32)\n",
        "a2 = np.arange(12,dtype = float).reshape(3,4)\n",
        "a3 = np.arange(8).reshape(2,2,2)\n",
        "print(a1)\n",
        "print(a2)\n",
        "print(a3)"
      ],
      "metadata": {
        "colab": {
          "base_uri": "https://localhost:8080/"
        },
        "id": "rqx62HtqB7XW",
        "outputId": "3e2e47de-7a7e-45d9-d091-78873f1e9c7a"
      },
      "execution_count": null,
      "outputs": [
        {
          "output_type": "stream",
          "name": "stdout",
          "text": [
            "[0 1 2 3 4 5 6 7 8 9]\n",
            "[[ 0.  1.  2.  3.]\n",
            " [ 4.  5.  6.  7.]\n",
            " [ 8.  9. 10. 11.]]\n",
            "[[[0 1]\n",
            "  [2 3]]\n",
            "\n",
            " [[4 5]\n",
            "  [6 7]]]\n"
          ]
        }
      ]
    },
    {
      "cell_type": "markdown",
      "source": [
        "Dimension check. In simple terms, If we look at the outlook of the matrix, we can tell it.\n",
        "If the matrix contains one third bracket at the beginning or at the end , then it is called one dimensional. If 2 then 2D, if 3 then 3D.\n"
      ],
      "metadata": {
        "id": "EJKGD4YrEyuX"
      }
    },
    {
      "cell_type": "code",
      "source": [
        "print(a1.ndim)\n",
        "print(a2.ndim)\n",
        "print(a3.ndim)"
      ],
      "metadata": {
        "colab": {
          "base_uri": "https://localhost:8080/"
        },
        "id": "LVHMxBwoE0y3",
        "outputId": "98a81500-0f86-4f9c-bb7b-1c9c41e742b4"
      },
      "execution_count": null,
      "outputs": [
        {
          "output_type": "stream",
          "name": "stdout",
          "text": [
            "1\n",
            "2\n",
            "3\n"
          ]
        }
      ]
    },
    {
      "cell_type": "markdown",
      "source": [
        "Shape checking. Shape means how the matrix look like. Means how much **Row and Column** it contains"
      ],
      "metadata": {
        "id": "NnwcQTw-FnqI"
      }
    },
    {
      "cell_type": "code",
      "source": [
        "print(a1.shape)\n",
        "print(a2.shape)\n",
        "print(a3.shape)"
      ],
      "metadata": {
        "colab": {
          "base_uri": "https://localhost:8080/"
        },
        "id": "YZjhurtaFpdm",
        "outputId": "84ef0132-5893-40f1-a356-edeb3ca02157"
      },
      "execution_count": null,
      "outputs": [
        {
          "output_type": "stream",
          "name": "stdout",
          "text": [
            "(10,)\n",
            "(3, 4)\n",
            "(2, 2, 2)\n"
          ]
        }
      ]
    },
    {
      "cell_type": "markdown",
      "source": [
        "Size Checker. In short, Size function returns how much **Entity** are there in the matrix."
      ],
      "metadata": {
        "id": "fCnVSjaKGfD2"
      }
    },
    {
      "cell_type": "code",
      "source": [
        "print(a1.size)\n",
        "print(a2.size)\n",
        "print(a3.size)"
      ],
      "metadata": {
        "colab": {
          "base_uri": "https://localhost:8080/"
        },
        "id": "o4QasVeBGiam",
        "outputId": "6aa14181-7d29-41e7-be51-15f0bd2013b2"
      },
      "execution_count": null,
      "outputs": [
        {
          "output_type": "stream",
          "name": "stdout",
          "text": [
            "10\n",
            "12\n",
            "8\n"
          ]
        }
      ]
    },
    {
      "cell_type": "markdown",
      "source": [
        "Itemsize. It returns how much **Bytes** the entities are occupaying in the **RAM** . If it occupies 32 bits then it will show **32/8 = 4**, if 64 then it will show 8 bytes."
      ],
      "metadata": {
        "id": "ZKpV9ZLsGhTW"
      }
    },
    {
      "cell_type": "code",
      "source": [
        "print(a1.itemsize)\n",
        "print(a2.itemsize)\n",
        "print(a3.itemsize)"
      ],
      "metadata": {
        "colab": {
          "base_uri": "https://localhost:8080/"
        },
        "id": "sQn5uOUhG0U-",
        "outputId": "8e46f8e2-afa7-4641-fd56-770f2f395c88"
      },
      "execution_count": null,
      "outputs": [
        {
          "output_type": "stream",
          "name": "stdout",
          "text": [
            "4\n",
            "8\n",
            "8\n"
          ]
        }
      ]
    },
    {
      "cell_type": "markdown",
      "source": [
        "*Just printing the datatype*"
      ],
      "metadata": {
        "id": "C3cDNkOrHT6E"
      }
    },
    {
      "cell_type": "code",
      "source": [
        "print(a1.dtype)\n",
        "print(a2.dtype)\n",
        "print(a3.dtype)"
      ],
      "metadata": {
        "colab": {
          "base_uri": "https://localhost:8080/"
        },
        "id": "6QTYsFoRHZtG",
        "outputId": "0b8d1b37-4562-4581-d39e-9dd6bdff5844"
      },
      "execution_count": null,
      "outputs": [
        {
          "output_type": "stream",
          "name": "stdout",
          "text": [
            "int32\n",
            "float64\n",
            "int64\n"
          ]
        }
      ]
    },
    {
      "cell_type": "markdown",
      "source": [
        "**Changing the Data Type**"
      ],
      "metadata": {
        "id": "ZUUOk7upHjYn"
      }
    },
    {
      "cell_type": "code",
      "source": [
        "a3.astype(np.int32)"
      ],
      "metadata": {
        "colab": {
          "base_uri": "https://localhost:8080/"
        },
        "id": "SpTDZR_HHm5X",
        "outputId": "c86a1518-7975-4797-d509-46900f24222b"
      },
      "execution_count": null,
      "outputs": [
        {
          "output_type": "execute_result",
          "data": {
            "text/plain": [
              "array([[[0, 1],\n",
              "        [2, 3]],\n",
              "\n",
              "       [[4, 5],\n",
              "        [6, 7]]], dtype=int32)"
            ]
          },
          "metadata": {},
          "execution_count": 34
        }
      ]
    },
    {
      "cell_type": "markdown",
      "source": [
        "*Array Operation* 2 types, Scalar operation and Vector operation"
      ],
      "metadata": {
        "id": "cM8TrBK5uhkj"
      }
    },
    {
      "cell_type": "code",
      "source": [
        "a1 = np.arange(12).reshape(3,4)\n",
        "a2 = np.arange(12,24).reshape(3,4)\n",
        "print(a1)\n",
        "print(a2)"
      ],
      "metadata": {
        "colab": {
          "base_uri": "https://localhost:8080/"
        },
        "id": "TJZtU0laun_k",
        "outputId": "a5c3e109-23bc-469a-e046-56c656389994"
      },
      "execution_count": null,
      "outputs": [
        {
          "output_type": "stream",
          "name": "stdout",
          "text": [
            "[[ 0  1  2  3]\n",
            " [ 4  5  6  7]\n",
            " [ 8  9 10 11]]\n",
            "[[12 13 14 15]\n",
            " [16 17 18 19]\n",
            " [20 21 22 23]]\n"
          ]
        }
      ]
    },
    {
      "cell_type": "code",
      "source": [
        "print(a1*5)"
      ],
      "metadata": {
        "colab": {
          "base_uri": "https://localhost:8080/"
        },
        "id": "4NTnJHBAvC9K",
        "outputId": "a286be16-e31d-4edf-9a10-1fa24a42effd"
      },
      "execution_count": null,
      "outputs": [
        {
          "output_type": "stream",
          "name": "stdout",
          "text": [
            "[[ 0  5 10 15]\n",
            " [20 25 30 35]\n",
            " [40 45 50 55]]\n"
          ]
        }
      ]
    },
    {
      "cell_type": "code",
      "source": [
        "print(a2 == 10)"
      ],
      "metadata": {
        "colab": {
          "base_uri": "https://localhost:8080/"
        },
        "id": "JvlkXCDgvQ7D",
        "outputId": "7e708f47-dace-42ca-e07a-b38c2be2e100"
      },
      "execution_count": null,
      "outputs": [
        {
          "output_type": "stream",
          "name": "stdout",
          "text": [
            "[[False False False]\n",
            " [False False False]\n",
            " [False False False]\n",
            " [False False False]]\n"
          ]
        }
      ]
    },
    {
      "cell_type": "code",
      "source": [
        "#vector operation\n",
        "print(a1 ** a2)"
      ],
      "metadata": {
        "colab": {
          "base_uri": "https://localhost:8080/"
        },
        "id": "iDQKRIp6vW9D",
        "outputId": "8f0307f6-4ba4-474b-d3a5-269a20507d65"
      },
      "execution_count": null,
      "outputs": [
        {
          "output_type": "stream",
          "name": "stdout",
          "text": [
            "[[                   0                    1                16384\n",
            "              14348907]\n",
            " [          4294967296         762939453125      101559956668416\n",
            "     11398895185373143]\n",
            " [ 1152921504606846976 -1261475310744950487  1864712049423024128\n",
            "   6839173302027254275]]\n"
          ]
        }
      ]
    },
    {
      "cell_type": "code",
      "source": [
        "a1 = np.random.random((3,3))\n",
        "a1 = np.round(a1*100)\n",
        "print(a1)"
      ],
      "metadata": {
        "colab": {
          "base_uri": "https://localhost:8080/"
        },
        "id": "-0Oq_WbKvxSS",
        "outputId": "cf43825c-004e-410b-a365-975dcf6c5f14"
      },
      "execution_count": null,
      "outputs": [
        {
          "output_type": "stream",
          "name": "stdout",
          "text": [
            "[[47. 95. 83.]\n",
            " [43. 94. 67.]\n",
            " [60. 98. 39.]]\n"
          ]
        }
      ]
    },
    {
      "cell_type": "markdown",
      "source": [
        "Row and column operation\n",
        "If the operation is **ROW** based then axis = 1\n",
        "If the operation is **COLUMN** based then axis = 0"
      ],
      "metadata": {
        "id": "7_EuIEtPwHDi"
      }
    },
    {
      "cell_type": "code",
      "source": [
        "print(a1)\n",
        "print(np.prod(a1,axis = 0))\n",
        "print(np.prod(a1,axis = 1))"
      ],
      "metadata": {
        "colab": {
          "base_uri": "https://localhost:8080/"
        },
        "id": "BHmewGKTwGLy",
        "outputId": "00d425bc-444a-4914-c85a-110452dbb094"
      },
      "execution_count": null,
      "outputs": [
        {
          "output_type": "stream",
          "name": "stdout",
          "text": [
            "[[47. 95. 83.]\n",
            " [43. 94. 67.]\n",
            " [60. 98. 39.]]\n",
            "[121260. 875140. 216879.]\n",
            "[370595. 270814. 229320.]\n"
          ]
        }
      ]
    },
    {
      "cell_type": "markdown",
      "source": [
        "**Matrix Multiplication**\n",
        "np.dot"
      ],
      "metadata": {
        "id": "korvAcPuxBqT"
      }
    },
    {
      "cell_type": "code",
      "source": [
        "a1 = np.arange(12).reshape(3,4)\n",
        "a2 = np.arange(12,24).reshape(4,3)\n",
        "print(a1)\n",
        "print(a2)\n",
        "dot = np.dot(a1,a2)\n",
        "print(dot)"
      ],
      "metadata": {
        "colab": {
          "base_uri": "https://localhost:8080/"
        },
        "id": "HluUvJ48xKCD",
        "outputId": "5cf2202f-1f49-4fb5-8e8a-274c32ba1cc4"
      },
      "execution_count": null,
      "outputs": [
        {
          "output_type": "stream",
          "name": "stdout",
          "text": [
            "[[ 0  1  2  3]\n",
            " [ 4  5  6  7]\n",
            " [ 8  9 10 11]]\n",
            "[[12 13 14]\n",
            " [15 16 17]\n",
            " [18 19 20]\n",
            " [21 22 23]]\n",
            "[[114 120 126]\n",
            " [378 400 422]\n",
            " [642 680 718]]\n"
          ]
        }
      ]
    },
    {
      "cell_type": "markdown",
      "source": [
        "***INDEXING AND SLICING***"
      ],
      "metadata": {
        "id": "B3G2X68gxm5D"
      }
    },
    {
      "cell_type": "code",
      "source": [
        "a1 = np.arange(10)\n",
        "a2 = np.arange(12).reshape(3,4)\n",
        "a3 = np.arange(8).reshape(2,2,2)\n",
        "print(a1)\n",
        "print(a2)\n",
        "print(a3)"
      ],
      "metadata": {
        "colab": {
          "base_uri": "https://localhost:8080/"
        },
        "id": "n1loSFe5yFGh",
        "outputId": "e7cbe5d8-cad3-45bb-f787-9e5989b9aafc"
      },
      "execution_count": null,
      "outputs": [
        {
          "output_type": "stream",
          "name": "stdout",
          "text": [
            "[0 1 2 3 4 5 6 7 8 9]\n",
            "[[ 0  1  2  3]\n",
            " [ 4  5  6  7]\n",
            " [ 8  9 10 11]]\n",
            "[[[0 1]\n",
            "  [2 3]]\n",
            "\n",
            " [[4 5]\n",
            "  [6 7]]]\n"
          ]
        }
      ]
    },
    {
      "cell_type": "code",
      "source": [
        "print(a2[1,0])"
      ],
      "metadata": {
        "colab": {
          "base_uri": "https://localhost:8080/"
        },
        "id": "Z7eOzLekzmqO",
        "outputId": "79f30c4e-a005-4efa-a75f-ab91ee2517ae"
      },
      "execution_count": null,
      "outputs": [
        {
          "output_type": "stream",
          "name": "stdout",
          "text": [
            "4\n"
          ]
        }
      ]
    },
    {
      "cell_type": "markdown",
      "source": [
        "Quiz : extract 5 from a3"
      ],
      "metadata": {
        "id": "1Wk6eU511aNa"
      }
    },
    {
      "cell_type": "code",
      "source": [
        "#print(a3)\n",
        "print(a3[1,0,1])"
      ],
      "metadata": {
        "colab": {
          "base_uri": "https://localhost:8080/"
        },
        "id": "4kPpYxtC1ZW_",
        "outputId": "605b8732-e342-4f07-a242-76b2bf63df54"
      },
      "execution_count": null,
      "outputs": [
        {
          "output_type": "stream",
          "name": "stdout",
          "text": [
            "5\n"
          ]
        }
      ]
    },
    {
      "cell_type": "markdown",
      "source": [
        "Extract 6 from the a3 matrix\n"
      ],
      "metadata": {
        "id": "RXC5FbV314nL"
      }
    },
    {
      "cell_type": "code",
      "source": [
        "print(a3[1,1,0])"
      ],
      "metadata": {
        "colab": {
          "base_uri": "https://localhost:8080/"
        },
        "id": "hXEZDhrv19tT",
        "outputId": "3cb1f0be-c80c-450d-9540-c672751fbb71"
      },
      "execution_count": null,
      "outputs": [
        {
          "output_type": "stream",
          "name": "stdout",
          "text": [
            "6\n"
          ]
        }
      ]
    },
    {
      "cell_type": "markdown",
      "source": [
        "Extract 2,4 from the a1"
      ],
      "metadata": {
        "id": "Svyr7L3e2GBk"
      }
    },
    {
      "cell_type": "code",
      "source": [
        "print(a1)\n",
        "print(a1[2:5:2])"
      ],
      "metadata": {
        "colab": {
          "base_uri": "https://localhost:8080/"
        },
        "id": "uGacSCV62Jei",
        "outputId": "aa636bfe-7bc0-4d46-c59e-cc6bdce09da2"
      },
      "execution_count": null,
      "outputs": [
        {
          "output_type": "stream",
          "name": "stdout",
          "text": [
            "[0 1 2 3 4 5 6 7 8 9]\n",
            "[2 4]\n"
          ]
        }
      ]
    },
    {
      "cell_type": "markdown",
      "source": [
        "1    3\n",
        "5    7  from matrix a2"
      ],
      "metadata": {
        "id": "QfF6ggRC2cqK"
      }
    },
    {
      "cell_type": "code",
      "source": [
        "print(a2)\n",
        "print(a2[0:2,1::2])\n"
      ],
      "metadata": {
        "colab": {
          "base_uri": "https://localhost:8080/"
        },
        "id": "yowqklyj2a8z",
        "outputId": "bedea1e7-c534-46dd-bd14-44a1510caf80"
      },
      "execution_count": null,
      "outputs": [
        {
          "output_type": "stream",
          "name": "stdout",
          "text": [
            "[[ 0  1  2  3]\n",
            " [ 4  5  6  7]\n",
            " [ 8  9 10 11]]\n",
            "[[1 3]\n",
            " [5 7]]\n"
          ]
        }
      ]
    },
    {
      "cell_type": "markdown",
      "source": [
        "1 3 9 11 extract from a2"
      ],
      "metadata": {
        "id": "Y7mj7Odc24cE"
      }
    },
    {
      "cell_type": "code",
      "source": [
        "print(a2[0::2,1::2])"
      ],
      "metadata": {
        "colab": {
          "base_uri": "https://localhost:8080/"
        },
        "id": "C7ZLuovF28N0",
        "outputId": "3c902e9e-6bbb-465f-b064-7238e15a7f39"
      },
      "execution_count": null,
      "outputs": [
        {
          "output_type": "stream",
          "name": "stdout",
          "text": [
            "[[ 1  3]\n",
            " [ 9 11]]\n"
          ]
        }
      ]
    },
    {
      "cell_type": "markdown",
      "source": [
        "Extract 4    7 from the a2 matrix"
      ],
      "metadata": {
        "id": "xWPUufBx3YPq"
      }
    },
    {
      "cell_type": "code",
      "source": [
        "print(a2)\n",
        "print(a2[1,0::3])"
      ],
      "metadata": {
        "colab": {
          "base_uri": "https://localhost:8080/"
        },
        "id": "6rFHzdIo3dJC",
        "outputId": "3803cd57-c377-43c1-da80-5f51901d934b"
      },
      "execution_count": null,
      "outputs": [
        {
          "output_type": "stream",
          "name": "stdout",
          "text": [
            "[[ 0  1  2  3]\n",
            " [ 4  5  6  7]\n",
            " [ 8  9 10 11]]\n",
            "[4 7]\n"
          ]
        }
      ]
    },
    {
      "cell_type": "markdown",
      "source": [
        "extract 0 1 2 3 from the a2 matrix"
      ],
      "metadata": {
        "id": "QVrilJGv4AoB"
      }
    },
    {
      "cell_type": "code",
      "source": [
        "print(a2[0])"
      ],
      "metadata": {
        "colab": {
          "base_uri": "https://localhost:8080/"
        },
        "id": "rdhJ-URh4EOs",
        "outputId": "0f12304b-1c62-41e7-c412-2fddf7294d6c"
      },
      "execution_count": null,
      "outputs": [
        {
          "output_type": "stream",
          "name": "stdout",
          "text": [
            "[0 1 2 3]\n"
          ]
        }
      ]
    },
    {
      "cell_type": "markdown",
      "source": [
        "extract 2 6 10 from a2"
      ],
      "metadata": {
        "id": "OSt-eHE84Ogr"
      }
    },
    {
      "cell_type": "code",
      "source": [
        "print(a2[:,2])"
      ],
      "metadata": {
        "colab": {
          "base_uri": "https://localhost:8080/"
        },
        "id": "cm9vmtnS4K-j",
        "outputId": "135ba383-20b0-4e86-98fe-9128e2d363b1"
      },
      "execution_count": null,
      "outputs": [
        {
          "output_type": "stream",
          "name": "stdout",
          "text": [
            "[ 2  6 10]\n"
          ]
        }
      ]
    },
    {
      "cell_type": "markdown",
      "source": [
        "5   6\n",
        "9   10"
      ],
      "metadata": {
        "id": "NdT_QOos4lL0"
      }
    },
    {
      "cell_type": "code",
      "source": [
        "print(a2[1:,1:3])"
      ],
      "metadata": {
        "colab": {
          "base_uri": "https://localhost:8080/"
        },
        "id": "xca7eQjv4m9q",
        "outputId": "5fc6c77d-43aa-4de9-9480-ac1bc0234819"
      },
      "execution_count": null,
      "outputs": [
        {
          "output_type": "stream",
          "name": "stdout",
          "text": [
            "[[ 5  6]\n",
            " [ 9 10]]\n"
          ]
        }
      ]
    },
    {
      "cell_type": "markdown",
      "source": [
        "Generate 3D matrix first"
      ],
      "metadata": {
        "id": "hruzMSCw5Fh6"
      }
    },
    {
      "cell_type": "code",
      "source": [
        "a3 = np.arange(0,27).reshape(3,3,3)\n",
        "print(a3)"
      ],
      "metadata": {
        "colab": {
          "base_uri": "https://localhost:8080/"
        },
        "id": "wYsId_C15Qez",
        "outputId": "8df47867-5744-4e08-f5a4-9c4e9068f9bd"
      },
      "execution_count": null,
      "outputs": [
        {
          "output_type": "stream",
          "name": "stdout",
          "text": [
            "[[[ 0  1  2]\n",
            "  [ 3  4  5]\n",
            "  [ 6  7  8]]\n",
            "\n",
            " [[ 9 10 11]\n",
            "  [12 13 14]\n",
            "  [15 16 17]]\n",
            "\n",
            " [[18 19 20]\n",
            "  [21 22 23]\n",
            "  [24 25 26]]]\n"
          ]
        }
      ]
    },
    {
      "cell_type": "code",
      "source": [
        "print(a3[0::2,0,0::2])"
      ],
      "metadata": {
        "colab": {
          "base_uri": "https://localhost:8080/"
        },
        "id": "SWrGSOr85Ze9",
        "outputId": "4b0436c9-ad84-495c-a6cd-712cc4a0af22"
      },
      "execution_count": null,
      "outputs": [
        {
          "output_type": "stream",
          "name": "stdout",
          "text": [
            "[[ 0  2]\n",
            " [18 20]]\n"
          ]
        }
      ]
    },
    {
      "cell_type": "code",
      "source": [
        "print(a3[2:,1:,1:])"
      ],
      "metadata": {
        "colab": {
          "base_uri": "https://localhost:8080/"
        },
        "id": "_EAsuXy55wii",
        "outputId": "6b7c8c91-8add-46ad-f946-a9c9ea615e0f"
      },
      "execution_count": null,
      "outputs": [
        {
          "output_type": "stream",
          "name": "stdout",
          "text": [
            "[[[22 23]\n",
            "  [25 26]]]\n"
          ]
        }
      ]
    },
    {
      "cell_type": "code",
      "source": [
        "print(a3[0,1,:])"
      ],
      "metadata": {
        "colab": {
          "base_uri": "https://localhost:8080/"
        },
        "id": "6kfIC_vx9Tnb",
        "outputId": "b3779aa1-eb66-4edb-b426-00c598e1b887"
      },
      "execution_count": null,
      "outputs": [
        {
          "output_type": "stream",
          "name": "stdout",
          "text": [
            "[3 4 5]\n"
          ]
        }
      ]
    },
    {
      "cell_type": "markdown",
      "source": [
        "Iterating"
      ],
      "metadata": {
        "id": "sajNKsoe9hii"
      }
    },
    {
      "cell_type": "code",
      "source": [
        "for i in np.nditer(a3):\n",
        "  print(i)"
      ],
      "metadata": {
        "colab": {
          "base_uri": "https://localhost:8080/"
        },
        "id": "mZVTzShR9g0C",
        "outputId": "d3f963ba-4edf-48cf-ee0d-7972118a2a09"
      },
      "execution_count": null,
      "outputs": [
        {
          "output_type": "stream",
          "name": "stdout",
          "text": [
            "0\n",
            "1\n",
            "2\n",
            "3\n",
            "4\n",
            "5\n",
            "6\n",
            "7\n",
            "8\n",
            "9\n",
            "10\n",
            "11\n",
            "12\n",
            "13\n",
            "14\n",
            "15\n",
            "16\n",
            "17\n",
            "18\n",
            "19\n",
            "20\n",
            "21\n",
            "22\n",
            "23\n",
            "24\n",
            "25\n",
            "26\n"
          ]
        }
      ]
    },
    {
      "cell_type": "markdown",
      "source": [],
      "metadata": {
        "id": "lVTrjgwj9tnK"
      }
    },
    {
      "cell_type": "markdown",
      "source": [
        "Transpose matrix"
      ],
      "metadata": {
        "id": "8Ahxdqj4BP5D"
      }
    },
    {
      "cell_type": "code",
      "source": [
        "print(a2)\n",
        "print(a2.T)"
      ],
      "metadata": {
        "colab": {
          "base_uri": "https://localhost:8080/"
        },
        "id": "vLrlgWj6BRnL",
        "outputId": "5b31981f-00d6-45c3-c06b-43e12604a4f8"
      },
      "execution_count": null,
      "outputs": [
        {
          "output_type": "stream",
          "name": "stdout",
          "text": [
            "[[ 0  1  2  3]\n",
            " [ 4  5  6  7]\n",
            " [ 8  9 10 11]]\n",
            "[[ 0  4  8]\n",
            " [ 1  5  9]\n",
            " [ 2  6 10]\n",
            " [ 3  7 11]]\n"
          ]
        }
      ]
    },
    {
      "cell_type": "code",
      "source": [
        "print(a2.ravel())"
      ],
      "metadata": {
        "colab": {
          "base_uri": "https://localhost:8080/"
        },
        "id": "HegKOrc7BY6U",
        "outputId": "2911ae28-4daa-4822-ff7f-39ad07d299f9"
      },
      "execution_count": null,
      "outputs": [
        {
          "output_type": "stream",
          "name": "stdout",
          "text": [
            "[ 0  1  2  3  4  5  6  7  8  9 10 11]\n"
          ]
        }
      ]
    },
    {
      "cell_type": "code",
      "source": [
        "a4 = np.arange(12).reshape(3,4)\n",
        "a5 = np.arange(12,24).reshape(3,4)\n",
        "print(a4)\n",
        "print(a5)\n",
        "c = np.hstack((a4,a5))\n",
        "d =np.vstack((a4,a5))\n",
        "print(c)\n",
        "print(d)"
      ],
      "metadata": {
        "colab": {
          "base_uri": "https://localhost:8080/"
        },
        "id": "lRYd_q07Bd37",
        "outputId": "c7690345-3bad-40c8-af68-f11586abfe05"
      },
      "execution_count": null,
      "outputs": [
        {
          "output_type": "stream",
          "name": "stdout",
          "text": [
            "[[ 0  1  2  3]\n",
            " [ 4  5  6  7]\n",
            " [ 8  9 10 11]]\n",
            "[[12 13 14 15]\n",
            " [16 17 18 19]\n",
            " [20 21 22 23]]\n",
            "[[ 0  1  2  3 12 13 14 15]\n",
            " [ 4  5  6  7 16 17 18 19]\n",
            " [ 8  9 10 11 20 21 22 23]]\n",
            "[[ 0  1  2  3]\n",
            " [ 4  5  6  7]\n",
            " [ 8  9 10 11]\n",
            " [12 13 14 15]\n",
            " [16 17 18 19]\n",
            " [20 21 22 23]]\n"
          ]
        }
      ]
    },
    {
      "cell_type": "markdown",
      "source": [
        "spliting"
      ],
      "metadata": {
        "id": "779dWnQGHSMk"
      }
    },
    {
      "cell_type": "code",
      "source": [
        "print(np.hsplit(c,2))"
      ],
      "metadata": {
        "colab": {
          "base_uri": "https://localhost:8080/"
        },
        "id": "UpI3b0VEHaBU",
        "outputId": "46ffdcae-32ab-4939-b3a0-c51cf32f5af0"
      },
      "execution_count": null,
      "outputs": [
        {
          "output_type": "stream",
          "name": "stdout",
          "text": [
            "[array([[ 0,  1,  2,  3],\n",
            "       [ 4,  5,  6,  7],\n",
            "       [ 8,  9, 10, 11]]), array([[12, 13, 14, 15],\n",
            "       [16, 17, 18, 19],\n",
            "       [20, 21, 22, 23]])]\n"
          ]
        }
      ]
    },
    {
      "cell_type": "code",
      "source": [
        "print(np.vsplit(d,2))"
      ],
      "metadata": {
        "colab": {
          "base_uri": "https://localhost:8080/"
        },
        "id": "OWUBuQbtJtKU",
        "outputId": "8bffce7c-81ba-4c29-c340-c6df220464c4"
      },
      "execution_count": null,
      "outputs": [
        {
          "output_type": "stream",
          "name": "stdout",
          "text": [
            "[array([[ 0,  1,  2,  3],\n",
            "       [ 4,  5,  6,  7],\n",
            "       [ 8,  9, 10, 11]]), array([[12, 13, 14, 15],\n",
            "       [16, 17, 18, 19],\n",
            "       [20, 21, 22, 23]])]\n"
          ]
        }
      ]
    }
  ]
}