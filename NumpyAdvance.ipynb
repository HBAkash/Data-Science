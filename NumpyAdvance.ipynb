{
  "nbformat": 4,
  "nbformat_minor": 0,
  "metadata": {
    "colab": {
      "provenance": []
    },
    "kernelspec": {
      "name": "python3",
      "display_name": "Python 3"
    },
    "language_info": {
      "name": "python"
    }
  },
  "cells": [
    {
      "cell_type": "markdown",
      "source": [
        "**NUMPY** VS **LIST**"
      ],
      "metadata": {
        "id": "_eIHlMRLuf3I"
      }
    },
    {
      "cell_type": "code",
      "execution_count": 1,
      "metadata": {
        "id": "3UOsVli-udN5"
      },
      "outputs": [],
      "source": [
        "import numpy as np\n"
      ]
    },
    {
      "cell_type": "code",
      "source": [
        "#speed of list\n",
        "a = [i for i in range(10000000)]\n",
        "b = [i for i in range(10000000,20000000)]\n",
        "c= []\n",
        "import time\n",
        "start = time.time()\n",
        "for i in range(len(a)):\n",
        "  c.append(a[i] + b[i])\n",
        "print(time.time() - start)\n",
        "\n",
        "\n"
      ],
      "metadata": {
        "colab": {
          "base_uri": "https://localhost:8080/"
        },
        "id": "SsOVhp_PuofE",
        "outputId": "1cd73158-5940-4244-f6aa-586a81360877"
      },
      "execution_count": 2,
      "outputs": [
        {
          "output_type": "stream",
          "name": "stdout",
          "text": [
            "2.402492046356201\n"
          ]
        }
      ]
    },
    {
      "cell_type": "code",
      "source": [
        "#now doing the same thing with numpy\n",
        "d = np.arange(10000000)\n",
        "e = np.arange(50000000,60000000)\n",
        "initial_time= time.time()\n",
        "addition = d + e\n",
        "\n",
        "print(time.time() - initial_time)"
      ],
      "metadata": {
        "colab": {
          "base_uri": "https://localhost:8080/"
        },
        "id": "Nu_wFLQLu2IN",
        "outputId": "eb512e43-3bd2-4b47-f315-e6b110a43922"
      },
      "execution_count": 6,
      "outputs": [
        {
          "output_type": "stream",
          "name": "stdout",
          "text": [
            "0.03132438659667969\n"
          ]
        }
      ]
    },
    {
      "cell_type": "code",
      "source": [
        "#multiplier\n",
        "print(2.402492046356201/0.03132438659667969)"
      ],
      "metadata": {
        "colab": {
          "base_uri": "https://localhost:8080/"
        },
        "id": "85Ih4060yRHd",
        "outputId": "b9621fdf-763f-43f1-e804-a443230e0b46"
      },
      "execution_count": 7,
      "outputs": [
        {
          "output_type": "stream",
          "name": "stdout",
          "text": [
            "76.69717773853742\n"
          ]
        }
      ]
    },
    {
      "cell_type": "markdown",
      "source": [
        "So, Only for the above calculation *NUMPY* is **76** times faster than python built in list"
      ],
      "metadata": {
        "id": "jJ7o5uI2ydNu"
      }
    },
    {
      "cell_type": "code",
      "source": [
        "#memory allocation\n",
        "import sys\n",
        "one = np.arange(10000000, dtype = np.int8)\n",
        "two = np.arange(10000000, dtype = np.int16)\n",
        "three = np.arange(10000000, dtype = np.int32)\n",
        "four = np.arange(10000000, dtype = np.int64)\n",
        "\n",
        "\n",
        "\n",
        "print(sys.getsizeof(one))\n",
        "print(sys.getsizeof(two))\n",
        "print(sys.getsizeof(three))\n",
        "print(sys.getsizeof(four))\n",
        "\n",
        "\n",
        "\n",
        "\n",
        "\n"
      ],
      "metadata": {
        "colab": {
          "base_uri": "https://localhost:8080/"
        },
        "id": "bHBUL9u4yklG",
        "outputId": "0221b8ea-9b4a-4911-8a33-d598bdba7832"
      },
      "execution_count": 11,
      "outputs": [
        {
          "output_type": "stream",
          "name": "stdout",
          "text": [
            "10000112\n",
            "20000112\n",
            "40000112\n",
            "80000112\n"
          ]
        }
      ]
    },
    {
      "cell_type": "markdown",
      "source": [
        "**ADVANCE INDEXING**"
      ],
      "metadata": {
        "id": "5d8ozkY3zvZc"
      }
    },
    {
      "cell_type": "code",
      "source": [
        "a = np.arange(24).reshape(6,4)\n",
        "print(a)"
      ],
      "metadata": {
        "colab": {
          "base_uri": "https://localhost:8080/"
        },
        "id": "EhutbfbdzAOP",
        "outputId": "17ccceb5-0ec4-4d94-e277-44eb231769b0"
      },
      "execution_count": 12,
      "outputs": [
        {
          "output_type": "stream",
          "name": "stdout",
          "text": [
            "[[ 0  1  2  3]\n",
            " [ 4  5  6  7]\n",
            " [ 8  9 10 11]\n",
            " [12 13 14 15]\n",
            " [16 17 18 19]\n",
            " [20 21 22 23]]\n"
          ]
        }
      ]
    },
    {
      "cell_type": "code",
      "source": [
        "print(a[1,2])"
      ],
      "metadata": {
        "colab": {
          "base_uri": "https://localhost:8080/"
        },
        "id": "wkmwWhm00NdM",
        "outputId": "12928a16-075b-4867-cdd8-23377f4085af"
      },
      "execution_count": 13,
      "outputs": [
        {
          "output_type": "stream",
          "name": "stdout",
          "text": [
            "6\n"
          ]
        }
      ]
    },
    {
      "cell_type": "markdown",
      "source": [
        "**Fancy Indexing**\n",
        "To find out rows and columns that cant be print by using logical thinking"
      ],
      "metadata": {
        "id": "hiEhOWSA2xIM"
      }
    },
    {
      "cell_type": "code",
      "source": [
        "print(a[[0,4,5],:])"
      ],
      "metadata": {
        "colab": {
          "base_uri": "https://localhost:8080/"
        },
        "id": "d4THUQyo0o6L",
        "outputId": "93cd0554-1b85-488a-f750-d723beecb1e5"
      },
      "execution_count": 17,
      "outputs": [
        {
          "output_type": "stream",
          "name": "stdout",
          "text": [
            "[[ 0  1  2  3]\n",
            " [16 17 18 19]\n",
            " [20 21 22 23]]\n"
          ]
        }
      ]
    },
    {
      "cell_type": "markdown",
      "source": [
        "Now I am going to print 0,1,3 no column"
      ],
      "metadata": {
        "id": "32e-wT_h256F"
      }
    },
    {
      "cell_type": "code",
      "source": [
        "print(a[:,[0,1,3]])"
      ],
      "metadata": {
        "colab": {
          "base_uri": "https://localhost:8080/"
        },
        "id": "qCh_j8bw2vJO",
        "outputId": "c94681cd-778f-49c7-85c0-b931b33fa4a4"
      },
      "execution_count": 18,
      "outputs": [
        {
          "output_type": "stream",
          "name": "stdout",
          "text": [
            "[[ 0  1  3]\n",
            " [ 4  5  7]\n",
            " [ 8  9 11]\n",
            " [12 13 15]\n",
            " [16 17 19]\n",
            " [20 21 23]]\n"
          ]
        }
      ]
    },
    {
      "cell_type": "markdown",
      "source": [
        "**Boolean Indexing**"
      ],
      "metadata": {
        "id": "MF81cviB3K39"
      }
    },
    {
      "cell_type": "code",
      "source": [
        "# First creating a array of random number of 24 entity with 6,4 rows and columns\n",
        "a = np.random.randint(0,100,24).reshape(6,4)\n",
        "print(a)"
      ],
      "metadata": {
        "colab": {
          "base_uri": "https://localhost:8080/"
        },
        "id": "Ecrd_s-C3M7j",
        "outputId": "6171ebb0-7f11-4fd5-e3de-2ee3da0554b4"
      },
      "execution_count": 19,
      "outputs": [
        {
          "output_type": "stream",
          "name": "stdout",
          "text": [
            "[[ 0 33 16 19]\n",
            " [81 36 95 30]\n",
            " [61 36 81 32]\n",
            " [65 91 96 12]\n",
            " [93 14 57 53]\n",
            " [60 70 61 63]]\n"
          ]
        }
      ]
    },
    {
      "cell_type": "code",
      "source": [
        "#find out the boolean matrix\n",
        "a>25"
      ],
      "metadata": {
        "colab": {
          "base_uri": "https://localhost:8080/"
        },
        "id": "lHGQxgRC4Dqi",
        "outputId": "f85a9f37-5a0c-4af7-be9c-4c822d05e696"
      },
      "execution_count": 22,
      "outputs": [
        {
          "output_type": "execute_result",
          "data": {
            "text/plain": [
              "array([[False,  True, False, False],\n",
              "       [ True,  True,  True,  True],\n",
              "       [ True,  True,  True,  True],\n",
              "       [ True,  True,  True, False],\n",
              "       [ True, False,  True,  True],\n",
              "       [ True,  True,  True,  True]])"
            ]
          },
          "metadata": {},
          "execution_count": 22
        }
      ]
    },
    {
      "cell_type": "code",
      "source": [
        "print(a[a>85])"
      ],
      "metadata": {
        "colab": {
          "base_uri": "https://localhost:8080/"
        },
        "id": "YfwH9E-I4ShU",
        "outputId": "3e904f00-33be-4d7b-9999-744e5dfda732"
      },
      "execution_count": 23,
      "outputs": [
        {
          "output_type": "stream",
          "name": "stdout",
          "text": [
            "[95 91 96 93]\n"
          ]
        }
      ]
    },
    {
      "cell_type": "code",
      "source": [
        "#to find out the value whose are divisable of 2 and greater than 35\n",
        "print(a[(a>34) & (a%2==0)])"
      ],
      "metadata": {
        "colab": {
          "base_uri": "https://localhost:8080/"
        },
        "id": "h44xVN6o4W7e",
        "outputId": "b08c85e1-0835-4688-b8da-d66f0592e304"
      },
      "execution_count": 27,
      "outputs": [
        {
          "output_type": "stream",
          "name": "stdout",
          "text": [
            "[36 36 96 60 70]\n"
          ]
        }
      ]
    },
    {
      "cell_type": "markdown",
      "source": [
        "**Broadcasting**"
      ],
      "metadata": {
        "id": "VPjpWnUB6WFr"
      }
    },
    {
      "cell_type": "code",
      "source": [
        "a = np.arange(6).reshape(2,3)\n",
        "b = np.arange(6,12).reshape(2,3)\n",
        "print(a)\n",
        "print(b)\n",
        "print(a+b)"
      ],
      "metadata": {
        "colab": {
          "base_uri": "https://localhost:8080/"
        },
        "id": "aU-gAp5Q7N0U",
        "outputId": "db14e0d0-7776-4651-e1cd-b5f18546236d"
      },
      "execution_count": 31,
      "outputs": [
        {
          "output_type": "stream",
          "name": "stdout",
          "text": [
            "[[0 1 2]\n",
            " [3 4 5]]\n",
            "[[ 6  7  8]\n",
            " [ 9 10 11]]\n",
            "[[ 6  8 10]\n",
            " [12 14 16]]\n"
          ]
        }
      ]
    },
    {
      "cell_type": "code",
      "source": [
        "a = np.arange(6).reshape(2,3)\n",
        "b = np.arange(3).reshape(1,3)\n",
        "print(a)\n",
        "print(b)\n",
        "print(a+b)"
      ],
      "metadata": {
        "colab": {
          "base_uri": "https://localhost:8080/"
        },
        "id": "z1Wfs-n48JHt",
        "outputId": "5b1d93c6-bd8f-4f18-b028-2fe51df6b332"
      },
      "execution_count": 34,
      "outputs": [
        {
          "output_type": "stream",
          "name": "stdout",
          "text": [
            "[[0 1 2]\n",
            " [3 4 5]]\n",
            "[[0 1 2]]\n",
            "[[0 2 4]\n",
            " [3 5 7]]\n"
          ]
        }
      ]
    },
    {
      "cell_type": "code",
      "source": [
        "a = np.arange(12).reshape(4,3)\n",
        "b = np.arange(3)\n",
        "print(a)\n",
        "print(b)\n",
        "print(a+b)"
      ],
      "metadata": {
        "colab": {
          "base_uri": "https://localhost:8080/"
        },
        "id": "wattQ02m9DYS",
        "outputId": "d164dbd7-fece-4600-b9ba-9143bab1e3e3"
      },
      "execution_count": 37,
      "outputs": [
        {
          "output_type": "stream",
          "name": "stdout",
          "text": [
            "[[ 0  1  2]\n",
            " [ 3  4  5]\n",
            " [ 6  7  8]\n",
            " [ 9 10 11]]\n",
            "[0 1 2]\n",
            "[[ 0  2  4]\n",
            " [ 3  5  7]\n",
            " [ 6  8 10]\n",
            " [ 9 11 13]]\n"
          ]
        }
      ]
    },
    {
      "cell_type": "code",
      "source": [
        "a = np.arange(12).reshape(3,4)\n",
        "b = np.arange(3)\n",
        "\n",
        "print(a)\n",
        "print(b)\n",
        "\n",
        "print(a+b)"
      ],
      "metadata": {
        "colab": {
          "base_uri": "https://localhost:8080/",
          "height": 245
        },
        "id": "OiZOczqU97Cz",
        "outputId": "4235946b-ac04-4386-c14a-02f506143874"
      },
      "execution_count": 39,
      "outputs": [
        {
          "output_type": "stream",
          "name": "stdout",
          "text": [
            "[[ 0  1  2  3]\n",
            " [ 4  5  6  7]\n",
            " [ 8  9 10 11]]\n",
            "[0 1 2]\n"
          ]
        },
        {
          "output_type": "error",
          "ename": "ValueError",
          "evalue": "operands could not be broadcast together with shapes (3,4) (3,) ",
          "traceback": [
            "\u001b[0;31m---------------------------------------------------------------------------\u001b[0m",
            "\u001b[0;31mValueError\u001b[0m                                Traceback (most recent call last)",
            "\u001b[0;32m<ipython-input-39-fa6cbb589166>\u001b[0m in \u001b[0;36m<cell line: 7>\u001b[0;34m()\u001b[0m\n\u001b[1;32m      5\u001b[0m \u001b[0mprint\u001b[0m\u001b[0;34m(\u001b[0m\u001b[0mb\u001b[0m\u001b[0;34m)\u001b[0m\u001b[0;34m\u001b[0m\u001b[0;34m\u001b[0m\u001b[0m\n\u001b[1;32m      6\u001b[0m \u001b[0;34m\u001b[0m\u001b[0m\n\u001b[0;32m----> 7\u001b[0;31m \u001b[0mprint\u001b[0m\u001b[0;34m(\u001b[0m\u001b[0ma\u001b[0m\u001b[0;34m+\u001b[0m\u001b[0mb\u001b[0m\u001b[0;34m)\u001b[0m\u001b[0;34m\u001b[0m\u001b[0;34m\u001b[0m\u001b[0m\n\u001b[0m",
            "\u001b[0;31mValueError\u001b[0m: operands could not be broadcast together with shapes (3,4) (3,) "
          ]
        }
      ]
    },
    {
      "cell_type": "code",
      "source": [
        "a = np.arange(3).reshape(1,3)\n",
        "b = np.arange(3).reshape(3,1)\n",
        "\n",
        "print(a)\n",
        "print(b)\n",
        "\n",
        "print(a+b)"
      ],
      "metadata": {
        "colab": {
          "base_uri": "https://localhost:8080/"
        },
        "id": "z8oiFrs2-rpm",
        "outputId": "a39fa171-af79-498d-9b8f-232cf35065c7"
      },
      "execution_count": 41,
      "outputs": [
        {
          "output_type": "stream",
          "name": "stdout",
          "text": [
            "[[0 1 2]]\n",
            "[[0]\n",
            " [1]\n",
            " [2]]\n",
            "[[0 1 2]\n",
            " [1 2 3]\n",
            " [2 3 4]]\n"
          ]
        }
      ]
    },
    {
      "cell_type": "code",
      "source": [
        "a = np.arange(3).reshape(1,3)\n",
        "b = np.arange(4).reshape(4,1)\n",
        "\n",
        "print(a)\n",
        "print(b)\n",
        "print(a+b)"
      ],
      "metadata": {
        "colab": {
          "base_uri": "https://localhost:8080/"
        },
        "id": "f26j_vkN_T2r",
        "outputId": "5e9583b8-a045-43fc-de0a-303c1e70a166"
      },
      "execution_count": 43,
      "outputs": [
        {
          "output_type": "stream",
          "name": "stdout",
          "text": [
            "[[0 1 2]]\n",
            "[[0]\n",
            " [1]\n",
            " [2]\n",
            " [3]]\n",
            "[[0 1 2]\n",
            " [1 2 3]\n",
            " [2 3 4]\n",
            " [3 4 5]]\n"
          ]
        }
      ]
    },
    {
      "cell_type": "markdown",
      "source": [
        "**Working with mathematical formulas**"
      ],
      "metadata": {
        "id": "YNfzHOLpC-sk"
      }
    },
    {
      "cell_type": "code",
      "source": [
        "a = np.arange(10)\n",
        "sinevalue = np.sin(a)\n",
        "print(sinevalue)"
      ],
      "metadata": {
        "colab": {
          "base_uri": "https://localhost:8080/"
        },
        "id": "tmy7YQozC-Oq",
        "outputId": "44920bee-7389-4f04-8c29-b031095395ae"
      },
      "execution_count": 44,
      "outputs": [
        {
          "output_type": "stream",
          "name": "stdout",
          "text": [
            "[ 0.          0.84147098  0.90929743  0.14112001 -0.7568025  -0.95892427\n",
            " -0.2794155   0.6569866   0.98935825  0.41211849]\n"
          ]
        }
      ]
    },
    {
      "cell_type": "markdown",
      "source": [],
      "metadata": {
        "id": "qmqPM1hoDbLb"
      }
    },
    {
      "cell_type": "code",
      "source": [
        "def sigmoid(array):\n",
        "  value =  1/(1 + np.exp(array))\n",
        "  print(value)\n",
        "\n",
        "sigmoid(np.arange(100))"
      ],
      "metadata": {
        "colab": {
          "base_uri": "https://localhost:8080/"
        },
        "id": "dvty22dpDcFz",
        "outputId": "d5793327-f176-4507-82b8-5c0eacacd2ec"
      },
      "execution_count": 48,
      "outputs": [
        {
          "output_type": "stream",
          "name": "stdout",
          "text": [
            "[5.00000000e-01 2.68941421e-01 1.19202922e-01 4.74258732e-02\n",
            " 1.79862100e-02 6.69285092e-03 2.47262316e-03 9.11051194e-04\n",
            " 3.35350130e-04 1.23394576e-04 4.53978687e-05 1.67014218e-05\n",
            " 6.14417460e-06 2.26032430e-06 8.31528028e-07 3.05902227e-07\n",
            " 1.12535162e-07 4.13993755e-08 1.52299795e-08 5.60279641e-09\n",
            " 2.06115362e-09 7.58256042e-10 2.78946809e-10 1.02618796e-10\n",
            " 3.77513454e-11 1.38879439e-11 5.10908903e-12 1.87952882e-12\n",
            " 6.91440011e-13 2.54366565e-13 9.35762297e-14 3.44247711e-14\n",
            " 1.26641655e-14 4.65888615e-15 1.71390843e-15 6.30511676e-16\n",
            " 2.31952283e-16 8.53304763e-17 3.13913279e-17 1.15482242e-17\n",
            " 4.24835426e-18 1.56288219e-18 5.74952226e-19 2.11513104e-19\n",
            " 7.78113224e-20 2.86251858e-20 1.05306174e-20 3.87399763e-21\n",
            " 1.42516408e-21 5.24288566e-22 1.92874985e-22 7.09547416e-23\n",
            " 2.61027907e-23 9.60268005e-24 3.53262857e-24 1.29958143e-24\n",
            " 4.78089288e-25 1.75879220e-25 6.47023493e-26 2.38026641e-26\n",
            " 8.75651076e-27 3.22134029e-27 1.18506486e-27 4.35961000e-28\n",
            " 1.60381089e-28 5.90009054e-29 2.17052201e-29 7.98490425e-30\n",
            " 2.93748211e-30 1.08063928e-30 3.97544974e-31 1.46248623e-31\n",
            " 5.38018616e-32 1.97925988e-32 7.28129018e-33 2.67863696e-33\n",
            " 9.85415469e-34 3.62514092e-34 1.33361482e-34 4.90609473e-35\n",
            " 1.80485139e-35 6.63967720e-36 2.44260074e-36 8.98582594e-37\n",
            " 3.30570063e-37 1.21609930e-37 4.47377931e-38 1.64581143e-38\n",
            " 6.05460190e-39 2.22736356e-39 8.19401262e-40 3.01440879e-40\n",
            " 1.10893902e-40 4.07955867e-41 1.50078576e-41 5.52108228e-42\n",
            " 2.03109266e-42 7.47197234e-43 2.74878501e-43 1.01122149e-43]\n"
          ]
        }
      ]
    },
    {
      "cell_type": "code",
      "source": [
        "def mse(act,pred):\n",
        "  sqrerr = np.mean((pred - act)**2)\n",
        "  print(sqrerr)\n",
        "\n",
        "actual = np.random.randint(0,100,100)\n",
        "prediction = np.random.randint(0,100,100)\n",
        "func(actual,prediction)\n",
        ""
      ],
      "metadata": {
        "colab": {
          "base_uri": "https://localhost:8080/"
        },
        "id": "8EAyqQvlEFVb",
        "outputId": "05984878-f882-49b6-8509-1ea07d77c63c"
      },
      "execution_count": 52,
      "outputs": [
        {
          "output_type": "stream",
          "name": "stdout",
          "text": [
            "1532.08\n"
          ]
        }
      ]
    },
    {
      "cell_type": "markdown",
      "source": [
        "**Working with missiong values**"
      ],
      "metadata": {
        "id": "DeKW5kb3LlDi"
      }
    },
    {
      "cell_type": "code",
      "source": [
        "a = np.array([1,5,54,5,np.nan,5])\n",
        "print(a)\n",
        "print(a[~np.isnan(a)])"
      ],
      "metadata": {
        "colab": {
          "base_uri": "https://localhost:8080/"
        },
        "id": "g-r4usfLLkyz",
        "outputId": "f4b72c9a-41fc-4c6b-d50d-1836aef515a5"
      },
      "execution_count": 54,
      "outputs": [
        {
          "output_type": "stream",
          "name": "stdout",
          "text": [
            "[ 1.  5. 54.  5. nan  5.]\n",
            "[ 1.  5. 54.  5.  5.]\n"
          ]
        }
      ]
    },
    {
      "cell_type": "markdown",
      "source": [
        "**Plotting graphs**"
      ],
      "metadata": {
        "id": "mkm0ofpeMVsR"
      }
    },
    {
      "cell_type": "code",
      "source": [
        "import matplotlib.pyplot as plt\n",
        "x = np.linspace(-10,10,100)\n",
        "y = x\n",
        "plt.plot(x,y)\n",
        "plt.show()"
      ],
      "metadata": {
        "colab": {
          "base_uri": "https://localhost:8080/",
          "height": 430
        },
        "id": "z83obidWMU38",
        "outputId": "564ac7bb-adf7-45f2-f126-f633efb63182"
      },
      "execution_count": 56,
      "outputs": [
        {
          "output_type": "display_data",
          "data": {
            "text/plain": [
              "<Figure size 640x480 with 1 Axes>"
            ],
            "image/png": "[encoded data removed]"
          },
          "metadata": {}
        }
      ]
    },
    {
      "cell_type": "code",
      "source": [
        "x = np.linspace(-10, 10,100)\n",
        "y = x**2\n",
        "plt.plot(x,y)\n",
        "plt.show()"
      ],
      "metadata": {
        "colab": {
          "base_uri": "https://localhost:8080/",
          "height": 430
        },
        "id": "skSSRanWNW_l",
        "outputId": "44bdf930-5eaf-4679-9b22-1df3c4df36e5"
      },
      "execution_count": 59,
      "outputs": [
        {
          "output_type": "display_data",
          "data": {
            "text/plain": [
              "<Figure size 640x480 with 1 Axes>"
            ],
            "image/png": "[encoded data removed]"
          },
          "metadata": {}
        }
      ]
    },
    {
      "cell_type": "markdown",
      "source": [],
      "metadata": {
        "id": "vaIxXNZ4MVUT"
      }
    },
    {
      "cell_type": "code",
      "source": [
        "x = np.linspace(-10,10,100)\n",
        "y = np.cos(x)\n",
        "plt.plot(x,y)\n",
        "plt.show()"
      ],
      "metadata": {
        "colab": {
          "base_uri": "https://localhost:8080/",
          "height": 430
        },
        "id": "AJWAhz27NwHL",
        "outputId": "cf32e888-e8c0-420f-c2da-d31c8d6d9f30"
      },
      "execution_count": 62,
      "outputs": [
        {
          "output_type": "display_data",
          "data": {
            "text/plain": [
              "<Figure size 640x480 with 1 Axes>"
            ],
            "image/png": "[encoded data removed]"
          },
          "metadata": {}
        }
      ]
    },
    {
      "cell_type": "code",
      "source": [
        "arr = np.linspace(-10,10,100)\n",
        "y = 1 /(1 + np.exp(-arr))\n",
        "plt.plot(x,y)\n",
        "plt.show()"
      ],
      "metadata": {
        "colab": {
          "base_uri": "https://localhost:8080/",
          "height": 430
        },
        "id": "gJuCU9auO26Z",
        "outputId": "335e2718-8f30-45bb-e336-011cce1c4dc3"
      },
      "execution_count": 66,
      "outputs": [
        {
          "output_type": "display_data",
          "data": {
            "text/plain": [
              "<Figure size 640x480 with 1 Axes>"
            ],
            "image/png": "[encoded data removed]"
          },
          "metadata": {}
        }
      ]
    }
  ]
}